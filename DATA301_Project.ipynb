{
  "nbformat": 4,
  "nbformat_minor": 0,
  "metadata": {
    "colab": {
      "name": "DATA301 Project.ipynb",
      "provenance": [],
      "collapsed_sections": []
    },
    "kernelspec": {
      "name": "python3",
      "display_name": "Python 3"
    }
  },
  "cells": [
    {
      "cell_type": "markdown",
      "metadata": {
        "id": "hB-C6LupVZLa"
      },
      "source": [
        "# DATA301 Project\n",
        "\n",
        "Research Question:  What is the worldwide sentiment of the upcoming 2022 FIFA world cup in comparison to both the host country Qatar’s sentiment of the tournament, and the worldwide sentiment of the 2018 competition? "
      ]
    },
    {
      "cell_type": "markdown",
      "metadata": {
        "id": "H8Rl1VhBfBjW"
      },
      "source": [
        "## setup libraries"
      ]
    },
    {
      "cell_type": "code",
      "metadata": {
        "id": "5FUcL0H-VsVk",
        "colab": {
          "base_uri": "https://localhost:8080/"
        },
        "outputId": "4f204763-2090-4e36-fc23-a72aeb810849"
      },
      "source": [
        "#library and code setup\n",
        "!apt-get update\n",
        "!apt-get install openjdk-8-jdk-headless -qq > /dev/null\n",
        "!pip install -q pyspark\n",
        "\n",
        "import pyspark, os\n",
        "from pyspark import SparkConf, SparkContext\n",
        "os.environ[\"PYSPARK_PYTHON\"]=\"python3\"\n",
        "os.environ[\"JAVA_HOME\"]=\"/usr/lib/jvm/java-8-openjdk-amd64/\"\n",
        "\n",
        "!pip install gdelt"
      ],
      "execution_count": null,
      "outputs": [
        {
          "output_type": "stream",
          "name": "stdout",
          "text": [
            "Hit:1 https://developer.download.nvidia.com/compute/cuda/repos/ubuntu1804/x86_64  InRelease\n",
            "Get:2 https://cloud.r-project.org/bin/linux/ubuntu bionic-cran40/ InRelease [3,626 B]\n",
            "Hit:3 http://archive.ubuntu.com/ubuntu bionic InRelease\n",
            "Get:4 http://ppa.launchpad.net/c2d4u.team/c2d4u4.0+/ubuntu bionic InRelease [15.9 kB]\n",
            "Get:5 http://security.ubuntu.com/ubuntu bionic-security InRelease [88.7 kB]\n",
            "Ign:6 https://developer.download.nvidia.com/compute/machine-learning/repos/ubuntu1804/x86_64  InRelease\n",
            "Hit:7 https://developer.download.nvidia.com/compute/machine-learning/repos/ubuntu1804/x86_64  Release\n",
            "Get:8 http://archive.ubuntu.com/ubuntu bionic-updates InRelease [88.7 kB]\n",
            "Hit:9 http://ppa.launchpad.net/cran/libgit2/ubuntu bionic InRelease\n",
            "Get:10 http://archive.ubuntu.com/ubuntu bionic-backports InRelease [74.6 kB]\n",
            "Get:11 http://ppa.launchpad.net/deadsnakes/ppa/ubuntu bionic InRelease [15.9 kB]\n",
            "Hit:12 http://ppa.launchpad.net/graphics-drivers/ppa/ubuntu bionic InRelease\n",
            "Get:14 http://ppa.launchpad.net/c2d4u.team/c2d4u4.0+/ubuntu bionic/main Sources [1,992 kB]\n",
            "Get:15 http://security.ubuntu.com/ubuntu bionic-security/main amd64 Packages [2,799 kB]\n",
            "Get:16 http://archive.ubuntu.com/ubuntu bionic-updates/universe amd64 Packages [2,286 kB]\n",
            "Get:17 http://security.ubuntu.com/ubuntu bionic-security/universe amd64 Packages [1,512 kB]\n",
            "Get:18 http://ppa.launchpad.net/c2d4u.team/c2d4u4.0+/ubuntu bionic/main amd64 Packages [1,021 kB]\n",
            "Get:19 http://archive.ubuntu.com/ubuntu bionic-updates/main amd64 Packages [3,231 kB]\n",
            "Get:20 http://ppa.launchpad.net/deadsnakes/ppa/ubuntu bionic/main amd64 Packages [45.3 kB]\n",
            "Fetched 13.2 MB in 3s (3,922 kB/s)\n",
            "Reading package lists... Done\n",
            "\u001b[K     |████████████████████████████████| 281.4 MB 28 kB/s \n",
            "\u001b[K     |████████████████████████████████| 198 kB 47.7 MB/s \n",
            "\u001b[?25h  Building wheel for pyspark (setup.py) ... \u001b[?25l\u001b[?25hdone\n",
            "Looking in indexes: https://pypi.org/simple, https://us-python.pkg.dev/colab-wheels/public/simple/\n",
            "Collecting gdelt\n",
            "  Downloading gdelt-0.1.10.6.1-py2.py3-none-any.whl (773 kB)\n",
            "\u001b[K     |████████████████████████████████| 773 kB 4.9 MB/s \n",
            "\u001b[33mWARNING: Discarding https://files.pythonhosted.org/packages/65/f9/a3d5111c8f17334b1752c32aedaab0d01ab4324bf26417bd41890d5b25d0/gdelt-0.1.10.6.1-py2.py3-none-any.whl#sha256=e69467f944c9eeab1648244fb58e9c4b6e073a5a0d16c3cdf8f99c0c8c290f6a (from https://pypi.org/simple/gdelt/). Requested gdelt from https://files.pythonhosted.org/packages/65/f9/a3d5111c8f17334b1752c32aedaab0d01ab4324bf26417bd41890d5b25d0/gdelt-0.1.10.6.1-py2.py3-none-any.whl#sha256=e69467f944c9eeab1648244fb58e9c4b6e073a5a0d16c3cdf8f99c0c8c290f6a has inconsistent version: filename has '0.1.10.6.1', but metadata has '0.1.10.6'\u001b[0m\n",
            "\u001b[?25h  Downloading gdelt-0.1.10.6.1.tar.gz (982 kB)\n",
            "\u001b[K     |████████████████████████████████| 982 kB 42.6 MB/s \n",
            "\u001b[33mWARNING: Discarding https://files.pythonhosted.org/packages/95/1f/c62e819f54c7a9d6cc74ab1924972c59121cd042dbac54da5ead2da9612d/gdelt-0.1.10.6.1.tar.gz#sha256=3da32cb33a2d490f1441b41c71cc2e006cabb074c245db31e5960c7eb4973316 (from https://pypi.org/simple/gdelt/). Command errored out with exit status 1: python setup.py egg_info Check the logs for full command output.\u001b[0m\n",
            "\u001b[?25h  Downloading gdelt-0.1.10.5.3-py2.py3-none-any.whl (761 kB)\n",
            "\u001b[K     |████████████████████████████████| 761 kB 49.6 MB/s \n",
            "\u001b[?25hRequirement already satisfied: numpy in /usr/local/lib/python3.7/dist-packages (from gdelt) (1.21.6)\n",
            "Requirement already satisfied: requests in /usr/local/lib/python3.7/dist-packages (from gdelt) (2.23.0)\n",
            "Requirement already satisfied: pandas>=0.20.3 in /usr/local/lib/python3.7/dist-packages (from gdelt) (1.3.5)\n",
            "Requirement already satisfied: python-dateutil in /usr/local/lib/python3.7/dist-packages (from gdelt) (2.8.2)\n",
            "Requirement already satisfied: pytz>=2017.3 in /usr/local/lib/python3.7/dist-packages (from pandas>=0.20.3->gdelt) (2022.1)\n",
            "Requirement already satisfied: six>=1.5 in /usr/local/lib/python3.7/dist-packages (from python-dateutil->gdelt) (1.15.0)\n",
            "Requirement already satisfied: idna<3,>=2.5 in /usr/local/lib/python3.7/dist-packages (from requests->gdelt) (2.10)\n",
            "Requirement already satisfied: urllib3!=1.25.0,!=1.25.1,<1.26,>=1.21.1 in /usr/local/lib/python3.7/dist-packages (from requests->gdelt) (1.24.3)\n",
            "Requirement already satisfied: certifi>=2017.4.17 in /usr/local/lib/python3.7/dist-packages (from requests->gdelt) (2022.5.18.1)\n",
            "Requirement already satisfied: chardet<4,>=3.0.2 in /usr/local/lib/python3.7/dist-packages (from requests->gdelt) (3.0.4)\n",
            "Installing collected packages: gdelt\n",
            "Successfully installed gdelt-0.1.10.5.3\n"
          ]
        }
      ]
    },
    {
      "cell_type": "code",
      "metadata": {
        "id": "Pl9vP_9MVzDv"
      },
      "source": [
        "#start spark local server\n",
        "import sys, os\n",
        "from operator import add\n",
        "import time\n",
        "\n",
        "os.environ[\"PYSPARK_PYTHON\"]=\"python3\"\n",
        "\n",
        "import pyspark\n",
        "from pyspark import SparkConf, SparkContext\n",
        "\n",
        "#connects our python driver to a local Spark JVM running on the Google Colab server virtual machine\n",
        "try:\n",
        "  conf = SparkConf().setMaster(\"local[*]\").set(\"spark.executor.memory\", \"1g\")\n",
        "  sc = SparkContext(conf = conf)\n",
        "except ValueError:\n",
        "  #it's ok if the server is already started\n",
        "  pass\n",
        "\n",
        "def dbg(x):\n",
        "  \"\"\" A helper function to print debugging information on RDDs \"\"\"\n",
        "  if isinstance(x, pyspark.RDD):\n",
        "    print([(t[0], list(t[1]) if \n",
        "            isinstance(t[1], pyspark.resultiterable.ResultIterable) else t[1])\n",
        "           if isinstance(t, tuple) else t\n",
        "           for t in x.take(100)])\n",
        "  else:\n",
        "    print(x)"
      ],
      "execution_count": null,
      "outputs": []
    },
    {
      "cell_type": "markdown",
      "metadata": {
        "id": "eM6g_ygjfGS5"
      },
      "source": [
        "## fetch gdelt summary data for each country"
      ]
    },
    {
      "cell_type": "code",
      "source": [
        "# gdelt summary data for the 2022 Qatar tournament\n",
        "\n",
        "host = \"https://api.gdeltproject.org/api/v2/doc/doc?format=csv&query=%22world%20cup%22%20sourcecountry:QA%20repeat2:%22qatar%22&startdatetime=20210521000000&enddatetime=20220521235959&mode=tonechart\"\n",
        "unitedstates = \"https://api.gdeltproject.org/api/v2/doc/doc?format=csv&query=%22world%20cup%22%20sourcecountry:US%20repeat2:%22qatar%22&startdatetime=20210521000000&enddatetime=20220521235959&mode=tonechart\"\n",
        "newzealand = \"https://api.gdeltproject.org/api/v2/doc/doc?format=csv&query=%22world%20cup%22%20sourcecountry:NZ%20repeat2:%22qatar%22&startdatetime=20210521000000&enddatetime=20220521235959&mode=tonechart\"\n",
        "germany = \"https://api.gdeltproject.org/api/v2/doc/doc?format=csv&query=%22world%20cup%22%20sourcecountry:GM%20repeat2:%22qatar%22&startdatetime=20210521000000&enddatetime=20220521235959&mode=tonechart\"\n",
        "brazil = \"https://api.gdeltproject.org/api/v2/doc/doc?format=csv&query=%22world%20cup%22%20sourcecountry:BR%20repeat2:%22qatar%22&startdatetime=20210521000000&enddatetime=20220521235959&mode=tonechart\"\n",
        "ghana = \"https://api.gdeltproject.org/api/v2/doc/doc?format=csv&query=%22world%20cup%22%20sourcecountry:GH%20repeat2:%22qatar%22&startdatetime=20210521000000&enddatetime=20220521235959&mode=tonechart\"\n",
        "iran = \"https://api.gdeltproject.org/api/v2/doc/doc?format=csv&query=%22world%20cup%22%20sourcecountry:IR%20repeat2:%22qatar%22&startdatetime=20210521000000&enddatetime=20220521235959&mode=tonechart\"\n",
        "southkorea = \"https://api.gdeltproject.org/api/v2/doc/doc?format=csv&query=%22world%20cup%22%20sourcecountry:KS%20repeat2:%22qatar%22&startdatetime=20210521000000&enddatetime=20220521235959&mode=tonechart\"\n",
        "senegal = \"https://api.gdeltproject.org/api/v2/doc/doc?format=csv&query=%22world%20cup%22%20sourcecountry:SG%20repeat2:%22qatar%22&startdatetime=20210521000000&enddatetime=20220521235959&mode=tonechart\"\n",
        "unitedkingdom = \"https://api.gdeltproject.org/api/v2/doc/doc?format=csv&query=%22world%20cup%22%20sourcecountry:UK%20repeat2:%22qatar%22&startdatetime=20210521000000&enddatetime=20220521235959&mode=tonechart\"\n",
        "argentina = \"https://api.gdeltproject.org/api/v2/doc/doc?format=csv&query=%22world%20cup%22%20sourcecountry:AR%20repeat2:%22qatar%22&startdatetime=20210521000000&enddatetime=20220521235959&mode=tonechart\"\n",
        "\n",
        "\n",
        "# gdelt summary data for the 2018 Russia tournament\n",
        "\n",
        "rhost = \"https://api.gdeltproject.org/api/v2/doc/doc?format=csv&query=%22world%20cup%22%20sourcecountry:RS%20repeat2:%22russia%22&startdatetime=20170101000000&enddatetime=20180101235959&mode=tonechart\"\n",
        "runitedstates = \"https://api.gdeltproject.org/api/v2/doc/doc?format=csv&query=%22world%20cup%22%20sourcecountry:US%20repeat2:%22russia%22&startdatetime=20170101000000&enddatetime=20180101235959&mode=tonechart\"\n",
        "rnewzealand = \"https://api.gdeltproject.org/api/v2/doc/doc?format=csv&query=%22world%20cup%22%20sourcecountry:NZ%20repeat2:%22russia%22&startdatetime=20170101000000&enddatetime=20180101235959&mode=tonechart\"\n",
        "rgermany = \"https://api.gdeltproject.org/api/v2/doc/doc?format=csv&query=%22world%20cup%22%20sourcecountry:GM%20repeat2:%22russia%22&startdatetime=20170101000000&enddatetime=20180101235959&mode=tonechart\"\n",
        "rbrazil = \"https://api.gdeltproject.org/api/v2/doc/doc?format=csv&query=%22world%20cup%22%20sourcecountry:BR%20repeat2:%22russia%22&startdatetime=20170101000000&enddatetime=20180101235959&mode=tonechart\"\n",
        "rghana = \"https://api.gdeltproject.org/api/v2/doc/doc?format=csv&query=%22world%20cup%22%20sourcecountry:GH%20repeat2:%22russia%22&startdatetime=20170101000000&enddatetime=20180101235959&mode=tonechart\"\n",
        "riran = \"https://api.gdeltproject.org/api/v2/doc/doc?format=csv&query=%22world%20cup%22%20sourcecountry:IR%20repeat2:%22russia%22&startdatetime=20170101000000&enddatetime=20180101235959&mode=tonechart\"\n",
        "rsouthkorea = \"https://api.gdeltproject.org/api/v2/doc/doc?format=csv&query=%22world%20cup%22%20sourcecountry:KS%20repeat2:%22russia%22&startdatetime=20170101000000&enddatetime=20180101235959&mode=tonechart\"\n",
        "rsenegal = \"https://api.gdeltproject.org/api/v2/doc/doc?format=csv&query=%22world%20cup%22%20sourcecountry:SG%20repeat2:%22russia%22&startdatetime=20170101000000&enddatetime=20180101235959&mode=tonechart\"\n",
        "runitedkingdom = \"https://api.gdeltproject.org/api/v2/doc/doc?format=csv&query=%22world%20cup%22%20sourcecountry:UK%20repeat2:%22russia%22&startdatetime=20170101000000&enddatetime=20180101235959&mode=tonechart\"\n",
        "rargentina = \"https://api.gdeltproject.org/api/v2/doc/doc?format=csv&query=%22world%20cup%22%20sourcecountry:AR%20repeat2:%22russia%22&startdatetime=20170101000000&enddatetime=20180101235959&mode=tonechart\""
      ],
      "metadata": {
        "id": "xLIm26pQ7rhg"
      },
      "execution_count": null,
      "outputs": []
    },
    {
      "cell_type": "code",
      "source": [
        "# these remove files from previous runs\n",
        "!rm -rf articles\n",
        "!rm *.csv"
      ],
      "metadata": {
        "id": "IO_vnndNH1Zw",
        "colab": {
          "base_uri": "https://localhost:8080/"
        },
        "outputId": "a2d10f08-2f91-4e86-cd73-3c98d71cc932"
      },
      "execution_count": null,
      "outputs": [
        {
          "output_type": "stream",
          "name": "stdout",
          "text": [
            "rm: cannot remove '*.csv': No such file or directory\n"
          ]
        }
      ]
    },
    {
      "cell_type": "code",
      "metadata": {
        "id": "b6PMg5lLXUi4",
        "colab": {
          "base_uri": "https://localhost:8080/"
        },
        "outputId": "1f271e65-348f-4724-943e-cce592f085d9"
      },
      "source": [
        "from concurrent.futures import ProcessPoolExecutor\n",
        "from datetime import date, timedelta\n",
        "import pandas as pd\n",
        "import gdelt\n",
        "import os\n",
        "import urllib.request\n",
        "\n",
        "start_time = time.monotonic() \n",
        "\n",
        "# multiprocess the query\n",
        "e = ProcessPoolExecutor(16)\n",
        "\n",
        "\n",
        "def get_filename(x):\n",
        "  # return the filename where x is the name of the source country\n",
        "  return f\"{x}_gdeltdata.csv\"\n",
        "\n",
        "\n",
        "def into_file(filename):\n",
        "  # pull the data from the gdelt summary api and write it to the countries file\n",
        "  try:\n",
        "\n",
        "    if not os.path.exists(filename):\n",
        "      country = filename.split(\"_\")[0]\n",
        "      query = csv_dict.get(country)\n",
        "\n",
        "      with urllib.request.urlopen(query) as testfile, open(filename, 'w') as f:\n",
        "        f.write(testfile.read().decode())\n",
        "\n",
        "    return filename\n",
        "\n",
        "  except Exception as inst:\n",
        "    print(type(inst))    # the exception instance\n",
        "    print(inst.args)     # arguments stored in .args\n",
        "    print(\"Error occurred\")\n",
        "\n",
        "\n",
        "country_list = ['Host', 'unitedstates', 'newzealand', 'germany', 'brazil', 'ghana', 'iran', 'southkorea', 'senegal', 'unitedkingdom', 'argentina', 'rHost', 'runitedstates', 'rnewzealand', 'rgermany', 'rbrazil', 'rghana', 'riran', 'rsouthkorea', 'rsenegal', 'runitedkingdom', 'rargentina']\n",
        "csv_dict = {'Host': host, 'unitedstates': unitedstates, 'newzealand': newzealand, 'germany':germany, 'brazil':brazil, 'ghana':ghana, 'iran':iran, 'southkorea':southkorea, 'senegal':senegal, 'unitedkingdom':unitedkingdom, 'argentina':argentina, 'rHost': rhost, 'runitedstates': runitedstates, 'rnewzealand': rnewzealand, 'rgermany':rgermany, 'rbrazil':rbrazil, 'rghana':rghana, 'riran':riran, 'rsouthkorea':rsouthkorea, 'rsenegal':rsenegal, 'runitedkingdom':runitedkingdom, 'rargentina':rargentina}\n",
        "\n",
        "countries = [get_filename(x) for x in country_list]\n",
        "results = list(e.map(into_file, countries))\n",
        "\n",
        "\n",
        "print(results)"
      ],
      "execution_count": null,
      "outputs": [
        {
          "output_type": "stream",
          "name": "stdout",
          "text": [
            "['Host_gdeltdata.csv', 'unitedstates_gdeltdata.csv', 'newzealand_gdeltdata.csv', 'germany_gdeltdata.csv', 'brazil_gdeltdata.csv', 'ghana_gdeltdata.csv', 'iran_gdeltdata.csv', 'southkorea_gdeltdata.csv', 'senegal_gdeltdata.csv', 'unitedkingdom_gdeltdata.csv', 'argentina_gdeltdata.csv', 'rHost_gdeltdata.csv', 'runitedstates_gdeltdata.csv', 'rnewzealand_gdeltdata.csv', 'rgermany_gdeltdata.csv', 'rbrazil_gdeltdata.csv', 'rghana_gdeltdata.csv', 'riran_gdeltdata.csv', 'rsouthkorea_gdeltdata.csv', 'rsenegal_gdeltdata.csv', 'runitedkingdom_gdeltdata.csv', 'rargentina_gdeltdata.csv']\n"
          ]
        }
      ]
    },
    {
      "cell_type": "markdown",
      "metadata": {
        "id": "kqsUhLtUgHvb"
      },
      "source": [
        "## read downloaded files into RDDs"
      ]
    },
    {
      "cell_type": "code",
      "metadata": {
        "id": "IPrb1sIGZKtA",
        "colab": {
          "base_uri": "https://localhost:8080/"
        },
        "outputId": "add454d6-a3dd-4efb-fa04-381d1d900b92"
      },
      "source": [
        "from pyspark.sql import SQLContext, SparkSession\n",
        "\n",
        "sqlContext = SQLContext(sc)\n",
        "spark = SparkSession.builder.getOrCreate()\n",
        "\n",
        "frame_list = []\n",
        "\n",
        "for country in results:\n",
        "  data_url = sqlContext.read.option(\"header\", \"true\").csv(country)\n",
        "  country_name = country.split(\"_\")[0]\n",
        "  frame_list.append((data_url, country_name))\n",
        "\n",
        "print(frame_list)"
      ],
      "execution_count": null,
      "outputs": [
        {
          "output_type": "stream",
          "name": "stderr",
          "text": [
            "/usr/local/lib/python3.7/dist-packages/pyspark/sql/context.py:79: FutureWarning: Deprecated in 3.0.0. Use SparkSession.builder.getOrCreate() instead.\n",
            "  FutureWarning\n"
          ]
        },
        {
          "output_type": "stream",
          "name": "stdout",
          "text": [
            "[(DataFrame[Label: string, Count: string, TopArtURL1: string, TopArtTitle1: string, TopArtURL2: string, TopArtTitle2: string, TopArtURL3: string, TopArtTitle3: string, TopArtURL4: string, TopArtTitle4: string, TopArtURL5: string, TopArtTitle5: string, TopArtURL6: string, TopArtTitle6: string, TopArtURL7: string, TopArtTitle7: string, TopArtURL8: string, TopArtTitle8: string, TopArtURL9: string, TopArtTitle9: string, TopArtURL10: string, TopArtTitle10: string], 'Host'), (DataFrame[Label: string, Count: string, TopArtURL1: string, TopArtTitle1: string, TopArtURL2: string, TopArtTitle2: string, TopArtURL3: string, TopArtTitle3: string, TopArtURL4: string, TopArtTitle4: string, TopArtURL5: string, TopArtTitle5: string, TopArtURL6: string, TopArtTitle6: string, TopArtURL7: string, TopArtTitle7: string, TopArtURL8: string, TopArtTitle8: string, TopArtURL9: string, TopArtTitle9: string, TopArtURL10: string, TopArtTitle10: string], 'unitedstates'), (DataFrame[Label: string, Count: string, TopArtURL1: string, TopArtTitle1: string, TopArtURL2: string, TopArtTitle2: string, TopArtURL3: string, TopArtTitle3: string, TopArtURL4: string, TopArtTitle4: string, TopArtURL5: string, TopArtTitle5: string, TopArtURL6: string, TopArtTitle6: string], 'newzealand'), (DataFrame[Label: string, Count: string, TopArtURL1: string, TopArtTitle1: string, TopArtURL2: string, TopArtTitle2: string, TopArtURL3: string, TopArtTitle3: string, TopArtURL4: string, TopArtTitle4: string, TopArtURL5: string, TopArtTitle5: string, TopArtURL6: string, TopArtTitle6: string, TopArtURL7: string, TopArtTitle7: string, TopArtURL8: string, TopArtTitle8: string, TopArtURL9: string, TopArtTitle9: string, TopArtURL10: string, TopArtTitle10: string], 'germany'), (DataFrame[Label: string, Count: string, TopArtURL1: string, TopArtTitle1: string, TopArtURL2: string, TopArtTitle2: string, TopArtURL3: string, TopArtTitle3: string, TopArtURL4: string, TopArtTitle4: string, TopArtURL5: string, TopArtTitle5: string, TopArtURL6: string, TopArtTitle6: string, TopArtURL7: string, TopArtTitle7: string, TopArtURL8: string, TopArtTitle8: string, TopArtURL9: string, TopArtTitle9: string, TopArtURL10: string, TopArtTitle10: string], 'brazil'), (DataFrame[Label: string, Count: string, TopArtURL1: string, TopArtTitle1: string, TopArtURL2: string, TopArtTitle2: string, TopArtURL3: string, TopArtTitle3: string, TopArtURL4: string, TopArtTitle4: string, TopArtURL5: string, TopArtTitle5: string, TopArtURL6: string, TopArtTitle6: string, TopArtURL7: string, TopArtTitle7: string, TopArtURL8: string, TopArtTitle8: string, TopArtURL9: string, TopArtTitle9: string, TopArtURL10: string, TopArtTitle10: string], 'ghana'), (DataFrame[Label: string, Count: string, TopArtURL1: string, TopArtTitle1: string, TopArtURL2: string, TopArtTitle2: string, TopArtURL3: string, TopArtTitle3: string, TopArtURL4: string, TopArtTitle4: string, TopArtURL5: string, TopArtTitle5: string, TopArtURL6: string, TopArtTitle6: string, TopArtURL7: string, TopArtTitle7: string, TopArtURL8: string, TopArtTitle8: string, TopArtURL9: string, TopArtTitle9: string, TopArtURL10: string, TopArtTitle10: string], 'iran'), (DataFrame[Label: string, Count: string, TopArtURL1: string, TopArtTitle1: string, TopArtURL2: string, TopArtTitle2: string, TopArtURL3: string, TopArtTitle3: string, TopArtURL4: string, TopArtTitle4: string, TopArtURL5: string, TopArtTitle5: string, TopArtURL6: string, TopArtTitle6: string, TopArtURL7: string, TopArtTitle7: string, TopArtURL8: string, TopArtTitle8: string, TopArtURL9: string, TopArtTitle9: string, TopArtURL10: string, TopArtTitle10: string], 'southkorea'), (DataFrame[Label: string, Count: string, TopArtURL1: string, TopArtTitle1: string, TopArtURL2: string, TopArtTitle2: string, TopArtURL3: string, TopArtTitle3: string, TopArtURL4: string, TopArtTitle4: string, TopArtURL5: string, TopArtTitle5: string, TopArtURL6: string, TopArtTitle6: string, TopArtURL7: string, TopArtTitle7: string, TopArtURL8: string, TopArtTitle8: string, TopArtURL9: string, TopArtTitle9: string, TopArtURL10: string, TopArtTitle10: string], 'senegal'), (DataFrame[Label: string, Count: string, TopArtURL1: string, TopArtTitle1: string, TopArtURL2: string, TopArtTitle2: string, TopArtURL3: string, TopArtTitle3: string, TopArtURL4: string, TopArtTitle4: string, TopArtURL5: string, TopArtTitle5: string, TopArtURL6: string, TopArtTitle6: string, TopArtURL7: string, TopArtTitle7: string, TopArtURL8: string, TopArtTitle8: string, TopArtURL9: string, TopArtTitle9: string, TopArtURL10: string, TopArtTitle10: string], 'unitedkingdom'), (DataFrame[Label: string, Count: string, TopArtURL1: string, TopArtTitle1: string, TopArtURL2: string, TopArtTitle2: string, TopArtURL3: string, TopArtTitle3: string, TopArtURL4: string, TopArtTitle4: string, TopArtURL5: string, TopArtTitle5: string, TopArtURL6: string, TopArtTitle6: string, TopArtURL7: string, TopArtTitle7: string, TopArtURL8: string, TopArtTitle8: string, TopArtURL9: string, TopArtTitle9: string, TopArtURL10: string, TopArtTitle10: string], 'argentina'), (DataFrame[Label: string, Count: string, TopArtURL1: string, TopArtTitle1: string, TopArtURL2: string, TopArtTitle2: string, TopArtURL3: string, TopArtTitle3: string, TopArtURL4: string, TopArtTitle4: string, TopArtURL5: string, TopArtTitle5: string, TopArtURL6: string, TopArtTitle6: string, TopArtURL7: string, TopArtTitle7: string, TopArtURL8: string, TopArtTitle8: string, TopArtURL9: string, TopArtTitle9: string, TopArtURL10: string, TopArtTitle10: string], 'rHost'), (DataFrame[Label: string, Count: string, TopArtURL1: string, TopArtTitle1: string, TopArtURL2: string, TopArtTitle2: string, TopArtURL3: string, TopArtTitle3: string, TopArtURL4: string, TopArtTitle4: string, TopArtURL5: string, TopArtTitle5: string, TopArtURL6: string, TopArtTitle6: string, TopArtURL7: string, TopArtTitle7: string, TopArtURL8: string, TopArtTitle8: string, TopArtURL9: string, TopArtTitle9: string, TopArtURL10: string, TopArtTitle10: string], 'runitedstates'), (DataFrame[Label: string, Count: string, TopArtURL1: string, TopArtTitle1: string, TopArtURL2: string, TopArtTitle2: string, TopArtURL3: string, TopArtTitle3: string, TopArtURL4: string, TopArtTitle4: string, TopArtURL5: string, TopArtTitle5: string, TopArtURL6: string, TopArtTitle6: string, TopArtURL7: string, TopArtTitle7: string, TopArtURL8: string, TopArtTitle8: string, TopArtURL9: string, TopArtTitle9: string, TopArtURL10: string, TopArtTitle10: string], 'rnewzealand'), (DataFrame[Label: string, Count: string, TopArtURL1: string, TopArtTitle1: string, TopArtURL2: string, TopArtTitle2: string, TopArtURL3: string, TopArtTitle3: string, TopArtURL4: string, TopArtTitle4: string, TopArtURL5: string, TopArtTitle5: string, TopArtURL6: string, TopArtTitle6: string, TopArtURL7: string, TopArtTitle7: string, TopArtURL8: string, TopArtTitle8: string, TopArtURL9: string, TopArtTitle9: string, TopArtURL10: string, TopArtTitle10: string], 'rgermany'), (DataFrame[Label: string, Count: string, TopArtURL1: string, TopArtTitle1: string, TopArtURL2: string, TopArtTitle2: string, TopArtURL3: string, TopArtTitle3: string, TopArtURL4: string, TopArtTitle4: string, TopArtURL5: string, TopArtTitle5: string, TopArtURL6: string, TopArtTitle6: string, TopArtURL7: string, TopArtTitle7: string, TopArtURL8: string, TopArtTitle8: string, TopArtURL9: string, TopArtTitle9: string, TopArtURL10: string, TopArtTitle10: string], 'rbrazil'), (DataFrame[Label: string, Count: string, TopArtURL1: string, TopArtTitle1: string, TopArtURL2: string, TopArtTitle2: string, TopArtURL3: string, TopArtTitle3: string, TopArtURL4: string, TopArtTitle4: string, TopArtURL5: string, TopArtTitle5: string, TopArtURL6: string, TopArtTitle6: string, TopArtURL7: string, TopArtTitle7: string, TopArtURL8: string, TopArtTitle8: string, TopArtURL9: string, TopArtTitle9: string, TopArtURL10: string, TopArtTitle10: string], 'rghana'), (DataFrame[Label: string, Count: string, TopArtURL1: string, TopArtTitle1: string, TopArtURL2: string, TopArtTitle2: string, TopArtURL3: string, TopArtTitle3: string, TopArtURL4: string, TopArtTitle4: string, TopArtURL5: string, TopArtTitle5: string, TopArtURL6: string, TopArtTitle6: string, TopArtURL7: string, TopArtTitle7: string, TopArtURL8: string, TopArtTitle8: string], 'riran'), (DataFrame[Label: string, Count: string, TopArtURL1: string, TopArtTitle1: string, TopArtURL2: string, TopArtTitle2: string, TopArtURL3: string, TopArtTitle3: string, TopArtURL4: string, TopArtTitle4: string, TopArtURL5: string, TopArtTitle5: string, TopArtURL6: string, TopArtTitle6: string, TopArtURL7: string, TopArtTitle7: string, TopArtURL8: string, TopArtTitle8: string, TopArtURL9: string, TopArtTitle9: string, TopArtURL10: string, TopArtTitle10: string], 'rsouthkorea'), (DataFrame[Label: string, Count: string, TopArtURL1: string, TopArtTitle1: string, TopArtURL2: string, TopArtTitle2: string, TopArtURL3: string, TopArtTitle3: string, TopArtURL4: string, TopArtTitle4: string, TopArtURL5: string, TopArtTitle5: string, TopArtURL6: string, TopArtTitle6: string, TopArtURL7: string, TopArtTitle7: string, TopArtURL8: string, TopArtTitle8: string, TopArtURL9: string, TopArtTitle9: string, TopArtURL10: string, TopArtTitle10: string], 'rsenegal'), (DataFrame[Label: string, Count: string, TopArtURL1: string, TopArtTitle1: string, TopArtURL2: string, TopArtTitle2: string, TopArtURL3: string, TopArtTitle3: string, TopArtURL4: string, TopArtTitle4: string, TopArtURL5: string, TopArtTitle5: string, TopArtURL6: string, TopArtTitle6: string, TopArtURL7: string, TopArtTitle7: string, TopArtURL8: string, TopArtTitle8: string, TopArtURL9: string, TopArtTitle9: string, TopArtURL10: string, TopArtTitle10: string], 'runitedkingdom'), (DataFrame[Label: string, Count: string, TopArtURL1: string, TopArtTitle1: string, TopArtURL2: string, TopArtTitle2: string, TopArtURL3: string, TopArtTitle3: string, TopArtURL4: string, TopArtTitle4: string, TopArtURL5: string, TopArtTitle5: string, TopArtURL6: string, TopArtTitle6: string, TopArtURL7: string, TopArtTitle7: string, TopArtURL8: string, TopArtTitle8: string, TopArtURL9: string, TopArtTitle9: string, TopArtURL10: string, TopArtTitle10: string], 'rargentina')]\n"
          ]
        }
      ]
    },
    {
      "cell_type": "code",
      "metadata": {
        "id": "i4rqs4T6dMsP",
        "colab": {
          "base_uri": "https://localhost:8080/"
        },
        "outputId": "66dfdf34-1c3b-4b16-ebac-fd04dfff7d23"
      },
      "source": [
        "def get_tones(row):\n",
        "  return (row['Label'], row['Count'])\n",
        "\n",
        "countries_tone = sc.emptyRDD()\n",
        "russia_countries_tone = sc.emptyRDD()\n",
        "\n",
        "for (frame, country) in frame_list:\n",
        "  tones = frame.rdd.map(get_tones)\n",
        "  if country[0] != 'r':    # the dataset for the qatar competition\n",
        "    country_tones = tones.map(lambda x: (x, country))\n",
        "    countries_tone = countries_tone.union(country_tones)\n",
        "  else:\n",
        "    country_name = country[1:]\n",
        "    country_tones = tones.map(lambda y: (y, country_name))\n",
        "    russia_countries_tone = russia_countries_tone.union(country_tones)\n",
        "\n",
        "print(countries_tone.collect())\n",
        "print(russia_countries_tone.collect())"
      ],
      "execution_count": null,
      "outputs": [
        {
          "output_type": "stream",
          "name": "stdout",
          "text": [
            "[(('-8', '1'), 'Host'), (('-7', '1'), 'Host'), (('-6', '11'), 'Host'), (('-5', '3'), 'Host'), (('-4', '18'), 'Host'), (('-3', '29'), 'Host'), (('-2', '35'), 'Host'), (('-1', '52'), 'Host'), (('0', '194'), 'Host'), (('1', '284'), 'Host'), (('2', '392'), 'Host'), (('3', '395'), 'Host'), (('4', '258'), 'Host'), (('5', '239'), 'Host'), (('6', '149'), 'Host'), (('7', '96'), 'Host'), (('8', '57'), 'Host'), (('9', '14'), 'Host'), (('10', '14'), 'Host'), (('11', '6'), 'Host'), (('-12', '1'), 'unitedstates'), (('-11', '1'), 'unitedstates'), (('-10', '0'), 'unitedstates'), (('-9', '1'), 'unitedstates'), (('-8', '3'), 'unitedstates'), (('-7', '4'), 'unitedstates'), (('-6', '33'), 'unitedstates'), (('-5', '32'), 'unitedstates'), (('-4', '76'), 'unitedstates'), (('-3', '254'), 'unitedstates'), (('-2', '520'), 'unitedstates'), (('-1', '319'), 'unitedstates'), (('0', '382'), 'unitedstates'), (('1', '238'), 'unitedstates'), (('2', '131'), 'unitedstates'), (('3', '44'), 'unitedstates'), (('4', '33'), 'unitedstates'), (('5', '19'), 'unitedstates'), (('6', '14'), 'unitedstates'), (('7', '3'), 'unitedstates'), (('8', '4'), 'unitedstates'), (('9', '0'), 'unitedstates'), (('10', '1'), 'unitedstates'), (('-3', '1'), 'newzealand'), (('-2', '6'), 'newzealand'), (('-1', '4'), 'newzealand'), (('0', '4'), 'newzealand'), (('1', '4'), 'newzealand'), (('2', '1'), 'newzealand'), (('3', '1'), 'newzealand'), (('4', '1'), 'newzealand'), (('5', '1'), 'newzealand'), (('-11', '1'), 'germany'), (('-10', '1'), 'germany'), (('-9', '0'), 'germany'), (('-8', '1'), 'germany'), (('-7', '2'), 'germany'), (('-6', '10'), 'germany'), (('-5', '9'), 'germany'), (('-4', '24'), 'germany'), (('-3', '26'), 'germany'), (('-2', '58'), 'germany'), (('-1', '84'), 'germany'), (('0', '138'), 'germany'), (('1', '46'), 'germany'), (('2', '9'), 'germany'), (('3', '5'), 'germany'), (('4', '5'), 'germany'), (('5', '4'), 'germany'), (('6', '1'), 'germany'), (('-7', '1'), 'brazil'), (('-6', '2'), 'brazil'), (('-5', '7'), 'brazil'), (('-4', '3'), 'brazil'), (('-3', '6'), 'brazil'), (('-2', '14'), 'brazil'), (('-1', '8'), 'brazil'), (('0', '30'), 'brazil'), (('1', '30'), 'brazil'), (('2', '22'), 'brazil'), (('3', '10'), 'brazil'), (('4', '3'), 'brazil'), (('5', '4'), 'brazil'), (('6', '2'), 'brazil'), (('7', '1'), 'brazil'), (('-7', '1'), 'ghana'), (('-6', '0'), 'ghana'), (('-5', '5'), 'ghana'), (('-4', '1'), 'ghana'), (('-3', '2'), 'ghana'), (('-2', '2'), 'ghana'), (('-1', '5'), 'ghana'), (('0', '14'), 'ghana'), (('1', '11'), 'ghana'), (('2', '14'), 'ghana'), (('3', '9'), 'ghana'), (('4', '10'), 'ghana'), (('5', '4'), 'ghana'), (('6', '12'), 'ghana'), (('7', '0'), 'ghana'), (('8', '3'), 'ghana'), (('-5', '1'), 'iran'), (('-4', '1'), 'iran'), (('-3', '2'), 'iran'), (('-2', '7'), 'iran'), (('-1', '4'), 'iran'), (('0', '11'), 'iran'), (('1', '6'), 'iran'), (('2', '12'), 'iran'), (('3', '8'), 'iran'), (('4', '1'), 'iran'), (('5', '0'), 'iran'), (('6', '1'), 'iran'), (('7', '1'), 'iran'), (('-10', '1'), 'southkorea'), (('-9', '0'), 'southkorea'), (('-8', '0'), 'southkorea'), (('-7', '2'), 'southkorea'), (('-6', '4'), 'southkorea'), (('-5', '6'), 'southkorea'), (('-4', '27'), 'southkorea'), (('-3', '31'), 'southkorea'), (('-2', '57'), 'southkorea'), (('-1', '89'), 'southkorea'), (('0', '112'), 'southkorea'), (('1', '66'), 'southkorea'), (('2', '45'), 'southkorea'), (('3', '33'), 'southkorea'), (('4', '21'), 'southkorea'), (('5', '5'), 'southkorea'), (('6', '3'), 'southkorea'), (('7', '0'), 'southkorea'), (('8', '6'), 'southkorea'), (('-6', '1'), 'senegal'), (('-5', '5'), 'senegal'), (('-4', '2'), 'senegal'), (('-3', '4'), 'senegal'), (('-2', '13'), 'senegal'), (('-1', '11'), 'senegal'), (('0', '26'), 'senegal'), (('1', '11'), 'senegal'), (('2', '7'), 'senegal'), (('3', '2'), 'senegal'), (('4', '3'), 'senegal'), (('5', '2'), 'senegal'), (('6', '1'), 'senegal'), (('7', '0'), 'senegal'), (('8', '1'), 'senegal'), (('-11', '1'), 'unitedkingdom'), (('-10', '0'), 'unitedkingdom'), (('-9', '2'), 'unitedkingdom'), (('-8', '1'), 'unitedkingdom'), (('-7', '6'), 'unitedkingdom'), (('-6', '8'), 'unitedkingdom'), (('-5', '11'), 'unitedkingdom'), (('-4', '140'), 'unitedkingdom'), (('-3', '183'), 'unitedkingdom'), (('-2', '211'), 'unitedkingdom'), (('-1', '418'), 'unitedkingdom'), (('0', '480'), 'unitedkingdom'), (('1', '340'), 'unitedkingdom'), (('2', '48'), 'unitedkingdom'), (('3', '92'), 'unitedkingdom'), (('4', '36'), 'unitedkingdom'), (('5', '5'), 'unitedkingdom'), (('6', '6'), 'unitedkingdom'), (('7', '2'), 'unitedkingdom'), (('8', '1'), 'unitedkingdom'), (('9', '0'), 'unitedkingdom'), (('10', '2'), 'unitedkingdom'), (('-7', '1'), 'argentina'), (('-6', '0'), 'argentina'), (('-5', '1'), 'argentina'), (('-4', '2'), 'argentina'), (('-3', '7'), 'argentina'), (('-2', '21'), 'argentina'), (('-1', '20'), 'argentina'), (('0', '40'), 'argentina'), (('1', '35'), 'argentina'), (('2', '24'), 'argentina'), (('3', '9'), 'argentina'), (('4', '4'), 'argentina'), (('5', '1'), 'argentina'), (('6', '2'), 'argentina')]\n",
            "[(('-8', '2'), 'Host'), (('-7', '2'), 'Host'), (('-6', '4'), 'Host'), (('-5', '12'), 'Host'), (('-4', '29'), 'Host'), (('-3', '42'), 'Host'), (('-2', '42'), 'Host'), (('-1', '54'), 'Host'), (('0', '59'), 'Host'), (('1', '43'), 'Host'), (('2', '24'), 'Host'), (('3', '26'), 'Host'), (('4', '29'), 'Host'), (('5', '4'), 'Host'), (('6', '4'), 'Host'), (('7', '1'), 'Host'), (('8', '1'), 'Host'), (('-13', '1'), 'unitedstates'), (('-12', '6'), 'unitedstates'), (('-11', '13'), 'unitedstates'), (('-10', '17'), 'unitedstates'), (('-9', '28'), 'unitedstates'), (('-8', '63'), 'unitedstates'), (('-7', '73'), 'unitedstates'), (('-6', '113'), 'unitedstates'), (('-5', '327'), 'unitedstates'), (('-4', '493'), 'unitedstates'), (('-3', '542'), 'unitedstates'), (('-2', '833'), 'unitedstates'), (('-1', '792'), 'unitedstates'), (('0', '995'), 'unitedstates'), (('1', '723'), 'unitedstates'), (('2', '356'), 'unitedstates'), (('3', '201'), 'unitedstates'), (('4', '90'), 'unitedstates'), (('5', '54'), 'unitedstates'), (('6', '32'), 'unitedstates'), (('7', '23'), 'unitedstates'), (('8', '9'), 'unitedstates'), (('9', '3'), 'unitedstates'), (('10', '1'), 'unitedstates'), (('-9', '1'), 'newzealand'), (('-8', '0'), 'newzealand'), (('-7', '1'), 'newzealand'), (('-6', '0'), 'newzealand'), (('-5', '2'), 'newzealand'), (('-4', '8'), 'newzealand'), (('-3', '11'), 'newzealand'), (('-2', '6'), 'newzealand'), (('-1', '14'), 'newzealand'), (('0', '6'), 'newzealand'), (('1', '10'), 'newzealand'), (('2', '0'), 'newzealand'), (('3', '1'), 'newzealand'), (('-10', '2'), 'germany'), (('-9', '5'), 'germany'), (('-8', '7'), 'germany'), (('-7', '11'), 'germany'), (('-6', '40'), 'germany'), (('-5', '53'), 'germany'), (('-4', '97'), 'germany'), (('-3', '175'), 'germany'), (('-2', '245'), 'germany'), (('-1', '221'), 'germany'), (('0', '327'), 'germany'), (('1', '237'), 'germany'), (('2', '126'), 'germany'), (('3', '52'), 'germany'), (('4', '22'), 'germany'), (('5', '17'), 'germany'), (('6', '2'), 'germany'), (('-10', '8'), 'brazil'), (('-9', '13'), 'brazil'), (('-8', '15'), 'brazil'), (('-7', '12'), 'brazil'), (('-6', '7'), 'brazil'), (('-5', '27'), 'brazil'), (('-4', '45'), 'brazil'), (('-3', '68'), 'brazil'), (('-2', '109'), 'brazil'), (('-1', '125'), 'brazil'), (('0', '180'), 'brazil'), (('1', '171'), 'brazil'), (('2', '82'), 'brazil'), (('3', '48'), 'brazil'), (('4', '24'), 'brazil'), (('5', '6'), 'brazil'), (('6', '5'), 'brazil'), (('7', '4'), 'brazil'), (('8', '1'), 'brazil'), (('9', '0'), 'brazil'), (('10', '1'), 'brazil'), (('-8', '1'), 'ghana'), (('-7', '2'), 'ghana'), (('-6', '1'), 'ghana'), (('-5', '9'), 'ghana'), (('-4', '7'), 'ghana'), (('-3', '6'), 'ghana'), (('-2', '11'), 'ghana'), (('-1', '13'), 'ghana'), (('0', '24'), 'ghana'), (('1', '13'), 'ghana'), (('2', '8'), 'ghana'), (('3', '7'), 'ghana'), (('4', '1'), 'ghana'), (('5', '4'), 'ghana'), (('6', '1'), 'ghana'), (('7', '1'), 'ghana'), (('-8', '2'), 'iran'), (('-7', '0'), 'iran'), (('-6', '5'), 'iran'), (('-5', '1'), 'iran'), (('-4', '1'), 'iran'), (('-3', '8'), 'iran'), (('-2', '3'), 'iran'), (('-1', '2'), 'iran'), (('0', '6'), 'iran'), (('1', '1'), 'iran'), (('2', '6'), 'iran'), (('3', '5'), 'iran'), (('4', '1'), 'iran'), (('-11', '4'), 'southkorea'), (('-10', '1'), 'southkorea'), (('-9', '3'), 'southkorea'), (('-8', '10'), 'southkorea'), (('-7', '14'), 'southkorea'), (('-6', '14'), 'southkorea'), (('-5', '24'), 'southkorea'), (('-4', '43'), 'southkorea'), (('-3', '83'), 'southkorea'), (('-2', '142'), 'southkorea'), (('-1', '127'), 'southkorea'), (('0', '161'), 'southkorea'), (('1', '117'), 'southkorea'), (('2', '56'), 'southkorea'), (('3', '36'), 'southkorea'), (('4', '16'), 'southkorea'), (('5', '7'), 'southkorea'), (('6', '3'), 'southkorea'), (('-11', '1'), 'senegal'), (('-10', '0'), 'senegal'), (('-9', '1'), 'senegal'), (('-8', '3'), 'senegal'), (('-7', '4'), 'senegal'), (('-6', '1'), 'senegal'), (('-5', '4'), 'senegal'), (('-4', '6'), 'senegal'), (('-3', '17'), 'senegal'), (('-2', '30'), 'senegal'), (('-1', '40'), 'senegal'), (('0', '58'), 'senegal'), (('1', '39'), 'senegal'), (('2', '26'), 'senegal'), (('3', '5'), 'senegal'), (('4', '6'), 'senegal'), (('5', '3'), 'senegal'), (('6', '0'), 'senegal'), (('7', '1'), 'senegal'), (('8', '1'), 'senegal'), (('-10', '3'), 'unitedkingdom'), (('-9', '6'), 'unitedkingdom'), (('-8', '6'), 'unitedkingdom'), (('-7', '10'), 'unitedkingdom'), (('-6', '20'), 'unitedkingdom'), (('-5', '156'), 'unitedkingdom'), (('-4', '60'), 'unitedkingdom'), (('-3', '75'), 'unitedkingdom'), (('-2', '113'), 'unitedkingdom'), (('-1', '108'), 'unitedkingdom'), (('0', '273'), 'unitedkingdom'), (('1', '126'), 'unitedkingdom'), (('2', '87'), 'unitedkingdom'), (('3', '26'), 'unitedkingdom'), (('4', '15'), 'unitedkingdom'), (('5', '13'), 'unitedkingdom'), (('6', '2'), 'unitedkingdom'), (('7', '1'), 'unitedkingdom'), (('-10', '1'), 'argentina'), (('-9', '3'), 'argentina'), (('-8', '2'), 'argentina'), (('-7', '10'), 'argentina'), (('-6', '7'), 'argentina'), (('-5', '15'), 'argentina'), (('-4', '43'), 'argentina'), (('-3', '87'), 'argentina'), (('-2', '166'), 'argentina'), (('-1', '274'), 'argentina'), (('0', '538'), 'argentina'), (('1', '336'), 'argentina'), (('2', '172'), 'argentina'), (('3', '96'), 'argentina'), (('4', '32'), 'argentina'), (('5', '12'), 'argentina'), (('6', '10'), 'argentina'), (('7', '0'), 'argentina'), (('8', '0'), 'argentina'), (('9', '0'), 'argentina'), (('10', '1'), 'argentina')]\n"
          ]
        }
      ]
    },
    {
      "cell_type": "markdown",
      "source": [
        "## Cosine Similarity Helper Functions\n"
      ],
      "metadata": {
        "id": "-xM-Eq11cT3x"
      }
    },
    {
      "cell_type": "code",
      "source": [
        "import numpy\n",
        "\n",
        "def add_country(tone_group):\n",
        "  # add countries with a tone count of 0 to tone values which have no country\n",
        "  count_country = tone_group[1]\n",
        "\n",
        "  added_countries = []\n",
        "  for i in count_country:\n",
        "    added_countries.append(i[1])\n",
        "\n",
        "  up_to = len(country_list) // 2\n",
        "  for i in country_list[:up_to]:\n",
        "    if i not in added_countries:\n",
        "      tone_group[1].append((0, i))\n",
        "  return tone_group\n",
        "\n",
        "def country_as_key(tones):\n",
        "  # rearrange so in (country (tone, count)) format\n",
        "  reformat = []\n",
        "  tone = tones[0]\n",
        "  for i in tones[1]:\n",
        "    count, country = i[0], i[1]\n",
        "    reformat.append((country, (tone, count)))\n",
        "  return reformat\n",
        "\n",
        "def vector_country(country):\n",
        "  count_array = numpy.array([0])\n",
        "  for i in range(len(country[1])):\n",
        "    count_array = numpy.append(count_array, country[1][i][1])\n",
        "  return (country[0], count_array)\n",
        "\n",
        "def multiple_vectors(country):\n",
        "  q_array = numpy.array([0])\n",
        "  r_array = numpy.array([0])\n",
        "  for i in range(len(country[1])):\n",
        "    q_array = numpy.append(q_array, country[1][i][1][0])\n",
        "    r_array = numpy.append(r_array, country[1][i][1][1])\n",
        "  return (country[0], (q_array, r_array))\n",
        "\n",
        "def cos_similarity(country, host):\n",
        "  v1 = country[1]\n",
        "  v2 = host[0][1] \n",
        "  similarity = v1.dot(v2) / (numpy.linalg.norm(v1)*numpy.linalg.norm(v2))\n",
        "  return country[0], similarity\n",
        "\n",
        "def cos_similarity_2(country):\n",
        "  v1 = country[1][0]\n",
        "  v2 = country[1][1]\n",
        "  similarity = v1.dot(v2) / (numpy.linalg.norm(v1)*numpy.linalg.norm(v2))\n",
        "  return country[0], similarity"
      ],
      "metadata": {
        "id": "U0kEOc_4cZB8"
      },
      "execution_count": null,
      "outputs": []
    },
    {
      "cell_type": "markdown",
      "source": [
        "## Cosine Similarity for Qatar World Cup"
      ],
      "metadata": {
        "id": "9DYOCl2zgogf"
      }
    },
    {
      "cell_type": "code",
      "source": [
        "tonecount_ints = countries_tone.map(lambda a: (int(a[0][0]), (int(a[0][1]), a[1])))\n",
        "tone_group = tonecount_ints.groupByKey().map(lambda x: (x[0], list(x[1])))\n",
        "\n",
        "append_country = tone_group.map(add_country).sortByKey()\n",
        "country_key = append_country.flatMap(country_as_key)\n",
        "country_grouped = country_key.groupByKey().map(lambda y: (y[0], list(y[1])))\n",
        "country_vectors = country_grouped.map(vector_country)\n",
        "countries_sorted = country_vectors.sortByKey()\n",
        "qatar = countries_sorted.take(1)\n",
        "\n",
        "cosine_similarity = country_vectors.map(lambda z: cos_similarity(z, qatar))\n",
        "ordered_similarity = cosine_similarity.sortBy(lambda s: s[1], False)\n",
        "\n",
        "print(ordered_similarity.collect())\n"
      ],
      "metadata": {
        "colab": {
          "base_uri": "https://localhost:8080/"
        },
        "id": "zJLdYE1tgvMn",
        "outputId": "bd701c95-659c-4568-b8d3-7f5c3bb5f73e"
      },
      "execution_count": null,
      "outputs": [
        {
          "output_type": "stream",
          "name": "stdout",
          "text": [
            "[('Host', 1.0), ('ghana', 0.8898294320269681), ('iran', 0.7900947401927789), ('brazil', 0.7457724210891178), ('argentina', 0.6711627993522642), ('southkorea', 0.6156322379182334), ('senegal', 0.538738991008716), ('newzealand', 0.501889892836966), ('unitedkingdom', 0.4804413109152161), ('unitedstates', 0.42952514643079415), ('germany', 0.3957754423612963)]\n"
          ]
        }
      ]
    },
    {
      "cell_type": "markdown",
      "source": [
        "## Cosine Similarity for Russia World Cup"
      ],
      "metadata": {
        "id": "KXQrz3leMIMR"
      }
    },
    {
      "cell_type": "code",
      "source": [
        "r_tonecount_ints = russia_countries_tone.map(lambda a: (int(a[0][0]), (int(a[0][1]), a[1])))\n",
        "r_tone_group = r_tonecount_ints.groupByKey().map(lambda x: (x[0], list(x[1])))\n",
        "\n",
        "r_append_country = r_tone_group.map(add_country).sortByKey()\n",
        "r_country_key = r_append_country.flatMap(country_as_key)\n",
        "r_country_grouped = r_country_key.groupByKey().map(lambda y: (y[0], list(y[1])))\n",
        "r_country_vectors = r_country_grouped.map(vector_country)\n",
        "r_countries_sorted = r_country_vectors.sortByKey()\n",
        "r_russia = r_countries_sorted.take(1)\n",
        "\n",
        "r_cosine_similarity = r_country_vectors.map(lambda z: cos_similarity(z, r_russia))\n",
        "r_ordered_similarity = r_cosine_similarity.sortBy(lambda s: s[1], False)\n",
        "\n",
        "print(r_ordered_similarity.collect())"
      ],
      "metadata": {
        "colab": {
          "base_uri": "https://localhost:8080/"
        },
        "id": "Ifpu9rYuMJC7",
        "outputId": "108a1332-502f-4846-8bbb-c8f890d9cb2b"
      },
      "execution_count": null,
      "outputs": [
        {
          "output_type": "stream",
          "name": "stdout",
          "text": [
            "[('Host', 1.0000000000000002), ('unitedstates', 0.9647703769109914), ('southkorea', 0.9600129845598563), ('germany', 0.9578561804849589), ('brazil', 0.9477209615954832), ('ghana', 0.925659835092976), ('senegal', 0.9250386998736069), ('argentina', 0.887595086084144), ('newzealand', 0.8783321556692931), ('unitedkingdom', 0.8712505590122548), ('iran', 0.7599014465688041)]\n"
          ]
        }
      ]
    },
    {
      "cell_type": "markdown",
      "source": [
        "## Cosine Similarity between the World Cups"
      ],
      "metadata": {
        "id": "-hNDBxrEjsZq"
      }
    },
    {
      "cell_type": "code",
      "source": [
        "reformat = country_key.map(lambda x: ((x[0], x[1][0]), x[1][1]))\n",
        "r_reformat = r_country_key.map(lambda y: ((y[0], y[1][0]), y[1][1]))\n",
        "joined_countries = reformat.join(r_reformat)\n",
        "joined_reformat = joined_countries.map(lambda z: (z[0][0], (z[0][1], z[1])))\n",
        "join_grouped = joined_reformat.groupByKey().map(lambda t: (t[0], list(t[1])))\n",
        "join_vectors = join_grouped.map(multiple_vectors)\n",
        "\n",
        "join_cosine_similarity = join_vectors.map(cos_similarity_2)\n",
        "ordered_similarity = join_cosine_similarity.sortBy(lambda s: s[1], False)\n",
        "\n",
        "end_time = time.monotonic()\n",
        "\n",
        "print(ordered_similarity.collect())\n",
        "print(\"processing took \",end_time-start_time)"
      ],
      "metadata": {
        "colab": {
          "base_uri": "https://localhost:8080/"
        },
        "id": "pNkYY3XZkSSa",
        "outputId": "69d7619f-46de-4cfa-da38-c36190d9fc12"
      },
      "execution_count": null,
      "outputs": [
        {
          "output_type": "stream",
          "name": "stdout",
          "text": [
            "[('argentina', 0.9739663796651391), ('southkorea', 0.967170723135395), ('senegal', 0.9654351668761568), ('unitedstates', 0.9489108161819158), ('brazil', 0.9415620382798787), ('germany', 0.9299038175434822), ('unitedkingdom', 0.8694416735055177), ('iran', 0.7696097340598517), ('ghana', 0.760090964494402), ('newzealand', 0.7525238433640895), ('Host', 0.6240243284009356)]\n",
            "processing took  41.46170193499984\n"
          ]
        }
      ]
    }
  ]
}